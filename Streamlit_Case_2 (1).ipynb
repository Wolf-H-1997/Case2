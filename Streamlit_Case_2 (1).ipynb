{
 "cells": [
  {
   "cell_type": "markdown",
   "id": "f3902822",
   "metadata": {},
   "source": [
    "# Case 2 Streamlit"
   ]
  },
  {
   "cell_type": "code",
   "execution_count": 2,
   "id": "b7655c5c",
   "metadata": {},
   "outputs": [
    {
     "name": "stderr",
     "output_type": "stream",
     "text": [
      "C:\\Users\\Eigenaar\\anaconda3\\lib\\site-packages\\scipy\\__init__.py:138: UserWarning: A NumPy version >=1.16.5 and <1.23.0 is required for this version of SciPy (detected version 1.24.4)\n",
      "  warnings.warn(f\"A NumPy version >={np_minversion} and <{np_maxversion} is required for this version of \"\n"
     ]
    }
   ],
   "source": [
    "import pandas as pd\n",
    "import numpy as np\n",
    "import plotly.graph_objects as go\n",
    "import plotly.express as px\n",
    "# import kaggle\n",
    "import zipfile\n",
    "import streamlit as st\n",
    "from PIL import Image\n",
    "\n",
    "import matplotlib.pyplot as plt\n",
    "import seaborn as sns"
   ]
  },
  {
   "cell_type": "code",
   "execution_count": 3,
   "id": "201d4f6e",
   "metadata": {},
   "outputs": [],
   "source": [
    "# !kaggle datasets download -d teejmahal20/airline-passenger-satisfaction"
   ]
  },
  {
   "cell_type": "code",
   "execution_count": 4,
   "id": "8104285d",
   "metadata": {},
   "outputs": [],
   "source": [
    "# zf = zipfile.ZipFile(r\"C:\\Users\\robyn\\OneDrive\\Documents\\HHS\\Minor HvA Data Science\\Case 2\\airline-passenger-satisfaction.zip\") \n",
    "# train = pd.read_csv(zf.open(\"train.csv\"), index_col = 0)"
   ]
  },
  {
   "cell_type": "code",
   "execution_count": 5,
   "id": "bc6814b5",
   "metadata": {},
   "outputs": [
    {
     "ename": "ImportError",
     "evalue": "Pandas requires version '2021.07.0' or newer of 'fsspec' (version '0.9.0' currently installed).",
     "output_type": "error",
     "traceback": [
      "\u001b[1;31m---------------------------------------------------------------------------\u001b[0m",
      "\u001b[1;31mImportError\u001b[0m                               Traceback (most recent call last)",
      "\u001b[1;32m<ipython-input-5-4c142bfe3ac4>\u001b[0m in \u001b[0;36m<module>\u001b[1;34m\u001b[0m\n\u001b[1;32m----> 1\u001b[1;33m \u001b[0mtrain\u001b[0m \u001b[1;33m=\u001b[0m \u001b[0mpd\u001b[0m\u001b[1;33m.\u001b[0m\u001b[0mread_csv\u001b[0m\u001b[1;33m(\u001b[0m\u001b[1;34m\"C://Users//Eigenaar//Downloads//vliegtuig.csv\"\u001b[0m\u001b[1;33m,\u001b[0m \u001b[0mindex_col\u001b[0m \u001b[1;33m=\u001b[0m \u001b[1;36m0\u001b[0m\u001b[1;33m)\u001b[0m\u001b[1;33m\u001b[0m\u001b[1;33m\u001b[0m\u001b[0m\n\u001b[0m",
      "\u001b[1;32m~\\anaconda3\\lib\\site-packages\\pandas\\io\\parsers\\readers.py\u001b[0m in \u001b[0;36mread_csv\u001b[1;34m(filepath_or_buffer, sep, delimiter, header, names, index_col, usecols, dtype, engine, converters, true_values, false_values, skipinitialspace, skiprows, skipfooter, nrows, na_values, keep_default_na, na_filter, verbose, skip_blank_lines, parse_dates, infer_datetime_format, keep_date_col, date_parser, date_format, dayfirst, cache_dates, iterator, chunksize, compression, thousands, decimal, lineterminator, quotechar, quoting, doublequote, escapechar, comment, encoding, encoding_errors, dialect, on_bad_lines, delim_whitespace, low_memory, memory_map, float_precision, storage_options, dtype_backend)\u001b[0m\n\u001b[0;32m    910\u001b[0m     \u001b[0mkwds\u001b[0m\u001b[1;33m.\u001b[0m\u001b[0mupdate\u001b[0m\u001b[1;33m(\u001b[0m\u001b[0mkwds_defaults\u001b[0m\u001b[1;33m)\u001b[0m\u001b[1;33m\u001b[0m\u001b[1;33m\u001b[0m\u001b[0m\n\u001b[0;32m    911\u001b[0m \u001b[1;33m\u001b[0m\u001b[0m\n\u001b[1;32m--> 912\u001b[1;33m     \u001b[1;32mreturn\u001b[0m \u001b[0m_read\u001b[0m\u001b[1;33m(\u001b[0m\u001b[0mfilepath_or_buffer\u001b[0m\u001b[1;33m,\u001b[0m \u001b[0mkwds\u001b[0m\u001b[1;33m)\u001b[0m\u001b[1;33m\u001b[0m\u001b[1;33m\u001b[0m\u001b[0m\n\u001b[0m\u001b[0;32m    913\u001b[0m \u001b[1;33m\u001b[0m\u001b[0m\n\u001b[0;32m    914\u001b[0m \u001b[1;33m\u001b[0m\u001b[0m\n",
      "\u001b[1;32m~\\anaconda3\\lib\\site-packages\\pandas\\io\\parsers\\readers.py\u001b[0m in \u001b[0;36m_read\u001b[1;34m(filepath_or_buffer, kwds)\u001b[0m\n\u001b[0;32m    575\u001b[0m \u001b[1;33m\u001b[0m\u001b[0m\n\u001b[0;32m    576\u001b[0m     \u001b[1;31m# Create the parser.\u001b[0m\u001b[1;33m\u001b[0m\u001b[1;33m\u001b[0m\u001b[1;33m\u001b[0m\u001b[0m\n\u001b[1;32m--> 577\u001b[1;33m     \u001b[0mparser\u001b[0m \u001b[1;33m=\u001b[0m \u001b[0mTextFileReader\u001b[0m\u001b[1;33m(\u001b[0m\u001b[0mfilepath_or_buffer\u001b[0m\u001b[1;33m,\u001b[0m \u001b[1;33m**\u001b[0m\u001b[0mkwds\u001b[0m\u001b[1;33m)\u001b[0m\u001b[1;33m\u001b[0m\u001b[1;33m\u001b[0m\u001b[0m\n\u001b[0m\u001b[0;32m    578\u001b[0m \u001b[1;33m\u001b[0m\u001b[0m\n\u001b[0;32m    579\u001b[0m     \u001b[1;32mif\u001b[0m \u001b[0mchunksize\u001b[0m \u001b[1;32mor\u001b[0m \u001b[0miterator\u001b[0m\u001b[1;33m:\u001b[0m\u001b[1;33m\u001b[0m\u001b[1;33m\u001b[0m\u001b[0m\n",
      "\u001b[1;32m~\\anaconda3\\lib\\site-packages\\pandas\\io\\parsers\\readers.py\u001b[0m in \u001b[0;36m__init__\u001b[1;34m(self, f, engine, **kwds)\u001b[0m\n\u001b[0;32m   1405\u001b[0m \u001b[1;33m\u001b[0m\u001b[0m\n\u001b[0;32m   1406\u001b[0m         \u001b[0mself\u001b[0m\u001b[1;33m.\u001b[0m\u001b[0mhandles\u001b[0m\u001b[1;33m:\u001b[0m \u001b[0mIOHandles\u001b[0m \u001b[1;33m|\u001b[0m \u001b[1;32mNone\u001b[0m \u001b[1;33m=\u001b[0m \u001b[1;32mNone\u001b[0m\u001b[1;33m\u001b[0m\u001b[1;33m\u001b[0m\u001b[0m\n\u001b[1;32m-> 1407\u001b[1;33m         \u001b[0mself\u001b[0m\u001b[1;33m.\u001b[0m\u001b[0m_engine\u001b[0m \u001b[1;33m=\u001b[0m \u001b[0mself\u001b[0m\u001b[1;33m.\u001b[0m\u001b[0m_make_engine\u001b[0m\u001b[1;33m(\u001b[0m\u001b[0mf\u001b[0m\u001b[1;33m,\u001b[0m \u001b[0mself\u001b[0m\u001b[1;33m.\u001b[0m\u001b[0mengine\u001b[0m\u001b[1;33m)\u001b[0m\u001b[1;33m\u001b[0m\u001b[1;33m\u001b[0m\u001b[0m\n\u001b[0m\u001b[0;32m   1408\u001b[0m \u001b[1;33m\u001b[0m\u001b[0m\n\u001b[0;32m   1409\u001b[0m     \u001b[1;32mdef\u001b[0m \u001b[0mclose\u001b[0m\u001b[1;33m(\u001b[0m\u001b[0mself\u001b[0m\u001b[1;33m)\u001b[0m \u001b[1;33m->\u001b[0m \u001b[1;32mNone\u001b[0m\u001b[1;33m:\u001b[0m\u001b[1;33m\u001b[0m\u001b[1;33m\u001b[0m\u001b[0m\n",
      "\u001b[1;32m~\\anaconda3\\lib\\site-packages\\pandas\\io\\parsers\\readers.py\u001b[0m in \u001b[0;36m_make_engine\u001b[1;34m(self, f, engine)\u001b[0m\n\u001b[0;32m   1659\u001b[0m                 \u001b[1;32mif\u001b[0m \u001b[1;34m\"b\"\u001b[0m \u001b[1;32mnot\u001b[0m \u001b[1;32min\u001b[0m \u001b[0mmode\u001b[0m\u001b[1;33m:\u001b[0m\u001b[1;33m\u001b[0m\u001b[1;33m\u001b[0m\u001b[0m\n\u001b[0;32m   1660\u001b[0m                     \u001b[0mmode\u001b[0m \u001b[1;33m+=\u001b[0m \u001b[1;34m\"b\"\u001b[0m\u001b[1;33m\u001b[0m\u001b[1;33m\u001b[0m\u001b[0m\n\u001b[1;32m-> 1661\u001b[1;33m             self.handles = get_handle(\n\u001b[0m\u001b[0;32m   1662\u001b[0m                 \u001b[0mf\u001b[0m\u001b[1;33m,\u001b[0m\u001b[1;33m\u001b[0m\u001b[1;33m\u001b[0m\u001b[0m\n\u001b[0;32m   1663\u001b[0m                 \u001b[0mmode\u001b[0m\u001b[1;33m,\u001b[0m\u001b[1;33m\u001b[0m\u001b[1;33m\u001b[0m\u001b[0m\n",
      "\u001b[1;32m~\\anaconda3\\lib\\site-packages\\pandas\\io\\common.py\u001b[0m in \u001b[0;36mget_handle\u001b[1;34m(path_or_buf, mode, encoding, compression, memory_map, is_text, errors, storage_options)\u001b[0m\n\u001b[0;32m    714\u001b[0m \u001b[1;33m\u001b[0m\u001b[0m\n\u001b[0;32m    715\u001b[0m     \u001b[1;31m# open URLs\u001b[0m\u001b[1;33m\u001b[0m\u001b[1;33m\u001b[0m\u001b[1;33m\u001b[0m\u001b[0m\n\u001b[1;32m--> 716\u001b[1;33m     ioargs = _get_filepath_or_buffer(\n\u001b[0m\u001b[0;32m    717\u001b[0m         \u001b[0mpath_or_buf\u001b[0m\u001b[1;33m,\u001b[0m\u001b[1;33m\u001b[0m\u001b[1;33m\u001b[0m\u001b[0m\n\u001b[0;32m    718\u001b[0m         \u001b[0mencoding\u001b[0m\u001b[1;33m=\u001b[0m\u001b[0mencoding\u001b[0m\u001b[1;33m,\u001b[0m\u001b[1;33m\u001b[0m\u001b[1;33m\u001b[0m\u001b[0m\n",
      "\u001b[1;32m~\\anaconda3\\lib\\site-packages\\pandas\\io\\common.py\u001b[0m in \u001b[0;36m_get_filepath_or_buffer\u001b[1;34m(filepath_or_buffer, encoding, compression, mode, storage_options)\u001b[0m\n\u001b[0;32m    391\u001b[0m         \u001b[1;32mif\u001b[0m \u001b[0mfilepath_or_buffer\u001b[0m\u001b[1;33m.\u001b[0m\u001b[0mstartswith\u001b[0m\u001b[1;33m(\u001b[0m\u001b[1;34m\"s3n://\"\u001b[0m\u001b[1;33m)\u001b[0m\u001b[1;33m:\u001b[0m\u001b[1;33m\u001b[0m\u001b[1;33m\u001b[0m\u001b[0m\n\u001b[0;32m    392\u001b[0m             \u001b[0mfilepath_or_buffer\u001b[0m \u001b[1;33m=\u001b[0m \u001b[0mfilepath_or_buffer\u001b[0m\u001b[1;33m.\u001b[0m\u001b[0mreplace\u001b[0m\u001b[1;33m(\u001b[0m\u001b[1;34m\"s3n://\"\u001b[0m\u001b[1;33m,\u001b[0m \u001b[1;34m\"s3://\"\u001b[0m\u001b[1;33m)\u001b[0m\u001b[1;33m\u001b[0m\u001b[1;33m\u001b[0m\u001b[0m\n\u001b[1;32m--> 393\u001b[1;33m         \u001b[0mfsspec\u001b[0m \u001b[1;33m=\u001b[0m \u001b[0mimport_optional_dependency\u001b[0m\u001b[1;33m(\u001b[0m\u001b[1;34m\"fsspec\"\u001b[0m\u001b[1;33m)\u001b[0m\u001b[1;33m\u001b[0m\u001b[1;33m\u001b[0m\u001b[0m\n\u001b[0m\u001b[0;32m    394\u001b[0m \u001b[1;33m\u001b[0m\u001b[0m\n\u001b[0;32m    395\u001b[0m         \u001b[1;31m# If botocore is installed we fallback to reading with anon=True\u001b[0m\u001b[1;33m\u001b[0m\u001b[1;33m\u001b[0m\u001b[1;33m\u001b[0m\u001b[0m\n",
      "\u001b[1;32m~\\anaconda3\\lib\\site-packages\\pandas\\compat\\_optional.py\u001b[0m in \u001b[0;36mimport_optional_dependency\u001b[1;34m(name, extra, errors, min_version)\u001b[0m\n\u001b[0;32m    169\u001b[0m                 \u001b[1;32mreturn\u001b[0m \u001b[1;32mNone\u001b[0m\u001b[1;33m\u001b[0m\u001b[1;33m\u001b[0m\u001b[0m\n\u001b[0;32m    170\u001b[0m             \u001b[1;32melif\u001b[0m \u001b[0merrors\u001b[0m \u001b[1;33m==\u001b[0m \u001b[1;34m\"raise\"\u001b[0m\u001b[1;33m:\u001b[0m\u001b[1;33m\u001b[0m\u001b[1;33m\u001b[0m\u001b[0m\n\u001b[1;32m--> 171\u001b[1;33m                 \u001b[1;32mraise\u001b[0m \u001b[0mImportError\u001b[0m\u001b[1;33m(\u001b[0m\u001b[0mmsg\u001b[0m\u001b[1;33m)\u001b[0m\u001b[1;33m\u001b[0m\u001b[1;33m\u001b[0m\u001b[0m\n\u001b[0m\u001b[0;32m    172\u001b[0m \u001b[1;33m\u001b[0m\u001b[0m\n\u001b[0;32m    173\u001b[0m     \u001b[1;32mreturn\u001b[0m \u001b[0mmodule\u001b[0m\u001b[1;33m\u001b[0m\u001b[1;33m\u001b[0m\u001b[0m\n",
      "\u001b[1;31mImportError\u001b[0m: Pandas requires version '2021.07.0' or newer of 'fsspec' (version '0.9.0' currently installed)."
     ]
    }
   ],
   "source": [
    "train = pd.read_csv(\"C://Users//Eigenaar//Downloads//vliegtuig.csv\", index_col = 0)"
   ]
  },
  {
   "cell_type": "code",
   "execution_count": null,
   "id": "12b38d0d",
   "metadata": {
    "scrolled": false
   },
   "outputs": [],
   "source": [
    "st.title(\"Passenger Satisfaction\")"
   ]
  },
  {
   "cell_type": "code",
   "execution_count": null,
   "id": "d562d1d6",
   "metadata": {},
   "outputs": [],
   "source": [
    "st.subheader(\"Team 4: Sten den Hartog, Robynne Hughes, Wolf Huiberts & Charles Huntington\")"
   ]
  },
  {
   "cell_type": "code",
   "execution_count": null,
   "id": "b4ad1602",
   "metadata": {},
   "outputs": [],
   "source": [
    "image = Image.open('dataset-cover.jpeg')\n",
    "st.image(image)"
   ]
  },
  {
   "cell_type": "code",
   "execution_count": null,
   "id": "0c719f12",
   "metadata": {},
   "outputs": [],
   "source": [
    "st.write(\"We will be working with a dataset from Kaggle: \")\n",
    "st.link_button(\"Passanger satisfaction\", \"https://www.kaggle.com/datasets/teejmahal20/airline-passenger-satisfaction\")"
   ]
  },
  {
   "cell_type": "code",
   "execution_count": null,
   "id": "705d95e2",
   "metadata": {},
   "outputs": [],
   "source": [
    "train.columns = train.columns.str.replace(' ', '_')"
   ]
  },
  {
   "cell_type": "markdown",
   "id": "8f513470",
   "metadata": {},
   "source": [
    "## Show information data"
   ]
  },
  {
   "cell_type": "code",
   "execution_count": null,
   "id": "698e9347",
   "metadata": {},
   "outputs": [],
   "source": [
    "st.header(\"De data waarmee we werken\")"
   ]
  },
  {
   "cell_type": "code",
   "execution_count": null,
   "id": "c6fbc014",
   "metadata": {},
   "outputs": [],
   "source": [
    "head = train.head()\n",
    "information = train.describe()\n",
    "describe = train.describe()\n",
    "nas = train.isna().sum()\n",
    "\n",
    "dataHead = st.checkbox('Frist 5 rows of the dataframe')\n",
    "dataInfo = st.checkbox('The information about the dataset')\n",
    "dataDescribe = st.checkbox(\"The description of the dataset\")\n",
    "dataNas = st.checkbox(\"The nonavailable values in the dataset\")\n",
    "\n",
    "if dataHead:\n",
    "    st.write('First rows of dataframe: ', head)\n",
    "if dataInfo:\n",
    "    st.write('Information of the dataset: ')\n",
    "    st.write(information)\n",
    "if dataDescribe:\n",
    "    st.write('Describe the dataset: ')\n",
    "    st.write(describe)\n",
    "if dataNas:\n",
    "    st.write('Nonavailable values in the dataset: ', nas)"
   ]
  },
  {
   "cell_type": "markdown",
   "id": "7fcc5f1f",
   "metadata": {},
   "source": [
    "## Visualisaties van de data"
   ]
  },
  {
   "cell_type": "code",
   "execution_count": null,
   "id": "f9fb65a4",
   "metadata": {},
   "outputs": [],
   "source": [
    "st.divider()\n",
    "st.header(\"Visualisatie van de data\")"
   ]
  },
  {
   "cell_type": "code",
   "execution_count": null,
   "id": "737b1224",
   "metadata": {
    "scrolled": true
   },
   "outputs": [],
   "source": [
    "fig1 = px.scatter(train, x=train.Departure_Delay_in_Minutes, color=train.satisfaction,color_discrete_map={'satisfied': 'red', \n",
    "                                                   'neutral or dissatisfied': 'royalblue'})\n",
    "fig2 = px.scatter(train, x=train.Arrival_Delay_in_Minutes, color=train.satisfaction, color_discrete_map={'satisfied': 'red', \n",
    "                                                   'neutral or dissatisfied': 'royalblue'})\n",
    "\n",
    "fig1.update_layout(xaxis=dict(range=[train.Departure_Delay_in_Minutes.min(),train.Departure_Delay_in_Minutes.max()+ 10],\n",
    "                              rangeslider=dict(range=[train.Departure_Delay_in_Minutes.min(),train.Departure_Delay_in_Minutes.max()+10], \n",
    "                                               thickness=0.05, bgcolor=\"#636EFA\")))\n",
    "\n",
    "fig2.update_layout(xaxis=dict(range=[train.Arrival_Delay_in_Minutes.min(),train.Arrival_Delay_in_Minutes.max()+ 10],\n",
    "                              rangeslider=dict(range=[train.Arrival_Delay_in_Minutes.min(),train.Arrival_Delay_in_Minutes.max()+10], \n",
    "                                               thickness=0.05, bgcolor=\"#636EFA\")))\n",
    "fig1.show()"
   ]
  },
  {
   "cell_type": "code",
   "execution_count": null,
   "id": "ae712024",
   "metadata": {},
   "outputs": [],
   "source": [
    "# fig1.show()\n",
    "\n",
    "# slider = st.radio(\"Departure or Arrival\", [\"Departure\", \"Arrival\"])\n",
    "\n",
    "# if slider == \"Departure\":\n",
    "#     st.scatter_chart(fig1)\n",
    "# else:\n",
    "#     st.scatter_chart(fig2)"
   ]
  },
  {
   "cell_type": "code",
   "execution_count": null,
   "id": "9987ff3f",
   "metadata": {},
   "outputs": [],
   "source": [
    "crosstabGender = pd.crosstab(train.Gender, train.satisfaction).reset_index()\n",
    "crosstabClass = pd.crosstab(train.Class, train.satisfaction).reset_index()\n",
    "crosstabCustomer = pd.crosstab(train.Customer_Type, train.satisfaction).reset_index()\n",
    "crosstabTravel = pd.crosstab(train.Type_of_Travel, train.satisfaction).reset_index()\n",
    "crosstabAge = pd.crosstab(train.Age, train.satisfaction).reset_index()"
   ]
  },
  {
   "cell_type": "code",
   "execution_count": null,
   "id": "6c60121a",
   "metadata": {},
   "outputs": [],
   "source": [
    "fig = go.Figure()\n",
    "crosstablist = [crosstabGender, crosstabClass, crosstabCustomer,crosstabTravel]\n",
    "\n",
    "for crosstab in crosstablist:\n",
    "    column_names = list(crosstab.columns.values)\n",
    "    fig.add_trace(go.Bar(x = crosstab.iloc[:,0],\n",
    "                         y = crosstab.iloc[:,1],\n",
    "                         offsetgroup = 0,\n",
    "                         name = column_names[1],\n",
    "                         marker_color = \"#e377c2\"))\n",
    "    fig.add_trace(go.Bar(x = crosstab.iloc[:,0], \n",
    "                         y = crosstab.iloc[:,2], \n",
    "                         offsetgroup = 0, \n",
    "                         name = column_names[2],\n",
    "                         base = crosstab.iloc[:,1],\n",
    "                         marker_color = \"#17becf\"))\n",
    "\n",
    "dropdown_buttons = [{'label':'ALL', 'method':'update','args': [{'visible':[True,True,True,True,True,True,True,True]},\n",
    "                                                                {'xaxis': {'title': 'All'}}]},\n",
    "                    {'label':'Gender', 'method':'update', 'args': [{'visible':[True,True,False,False,False,False,False,False]},\n",
    "                                                                {'xaxis': {'title': 'Gender'}}]},\n",
    "                    {'label':'Class','method': 'update','args':[{'visible':[False, False, True, True,False,False,False,False]},\n",
    "                                                               {'xaxis': {'title': 'Class'}}]},\n",
    "                    {'label':'Type of Customer','method': 'update','args':[{'visible':[False, False, False, False,True,True,False,False]},\n",
    "                                                               {'xaxis': {'title': 'Type of Customer'}}]},\n",
    "                    {'label':'Type of Travel','method': 'update','args':[{'visible':[False, False, False, False,False,False,True,True]},\n",
    "                                                               {'xaxis': {'title': 'Type of Travel'}}]}]\n",
    "\n",
    "fig.update_layout({'updatemenus':[{'active': 0 , 'buttons':dropdown_buttons}]},yaxis_title = \"Count\", xaxis_title = \"All\",\n",
    "                  title = \"Satisfaction of people on airplanes based on variable\", legend_title = \"Satisfaction\")\n",
    "st.plotly_chart(fig)"
   ]
  },
  {
   "cell_type": "code",
   "execution_count": null,
   "id": "ad16ed40",
   "metadata": {},
   "outputs": [],
   "source": [
    "#redefining non-numeric values to numeric for correlation heatmap\n",
    "train['satisfaction'] = train['satisfaction'].map({'satisfied': 1, 'neutral or dissatisfied': 0})\n",
    "train['Type_of_Travel'] = train['Type_of_Travel'].map({'Business travel': 1, 'Personal Travel': 0})\n",
    "train['Class'] = train['Class'].map({'Eco': 0, 'Eco Plus': 1, 'Business' : 2})\n",
    "train['Gender'] = train['Gender'].map({'Male': 1, 'Female': 0})\n",
    "train['Customer_Type'] = train['Customer_Type'].map({'Loyal Customer': 1, 'disloyal Customer': 0})"
   ]
  },
  {
   "cell_type": "code",
   "execution_count": null,
   "id": "87ba1a02",
   "metadata": {},
   "outputs": [],
   "source": [
    "#dropped certain columns from the heatmap to make it easier to read and contain more relevant information.\n",
    "train_clean = train.drop(columns = ['id', 'Departure/Arrival_time_convenient', 'Gate_location', \n",
    "                          'Departure_Delay_in_Minutes', 'Arrival_Delay_in_Minutes'])\n",
    "fig, ax = plt.subplots()\n",
    "Matrix = train.corr()\n",
    "sns.heatmap(Matrix[['satisfaction']], annot = True, ax=ax)\n",
    "\n",
    "st.pyplot(fig)"
   ]
  },
  {
   "cell_type": "code",
   "execution_count": null,
   "id": "06f7d781",
   "metadata": {},
   "outputs": [],
   "source": [
    "# Define the variables you want to create pie charts for\n",
    "variables = ['Gender', 'Customer_Type', 'Type_of_Travel', 'Class', 'satisfaction',\n",
    "             'Inflight_wifi_service', 'Ease_of_Online_booking',\n",
    "             'Food_and_drink', 'Online_boarding', 'Seat_comfort',\n",
    "             'Inflight_entertainment', 'On-board_service', 'Leg_room_service',\n",
    "             'Baggage_handling', 'Checkin_service', 'Inflight_service',\n",
    "             'Cleanliness']\n",
    "\n",
    "# Create a dropdown widget for selecting variables\n",
    "selected_variable = st.selectbox(\"Select Variable:\", variables)\n",
    "\n",
    "# Create a function to plot pie charts for a selected variable\n",
    "def plot_pie_chart(selected_variable):\n",
    "    plt.figure(figsize=(6, 6))\n",
    "\n",
    "    # Calculate the value counts for the selected variable\n",
    "    value_counts = train_clean[selected_variable].value_counts()\n",
    "\n",
    "    # Modify labels for specific variables\n",
    "    labels = value_counts.index\n",
    "    if selected_variable == 'Gender':\n",
    "        labels = ['Male', 'Female']\n",
    "    elif selected_variable == 'Customer_Type':\n",
    "        labels = ['Loyal', 'Disloyal']\n",
    "    elif selected_variable == 'Type_of_Travel':\n",
    "        labels = ['Personal', 'Business']\n",
    "    elif selected_variable == 'Class':\n",
    "        labels = ['Business', 'Eco', 'Eco Plus']\n",
    "    elif selected_variable == 'satisfaction':\n",
    "        labels = ['Satisfied', 'Dissatisfied']\n",
    "\n",
    "    # Create a pie chart\n",
    "    plt.pie(value_counts, labels=labels, autopct='%1.1f%%', startangle=90, colors=sns.color_palette(\"YlOrBr\"))\n",
    "    plt.title(f'Distribution of {selected_variable}')\n",
    "    st.pyplot(plt)\n",
    "\n",
    "# Call the function to plot the initial pie chart\n",
    "plot_pie_chart(selected_variable)"
   ]
  },
  {
   "cell_type": "code",
   "execution_count": null,
   "id": "f9fc1d34",
   "metadata": {},
   "outputs": [],
   "source": []
  },
  {
   "cell_type": "code",
   "execution_count": null,
   "id": "ed56a451",
   "metadata": {},
   "outputs": [],
   "source": []
  }
 ],
 "metadata": {
  "kernelspec": {
   "display_name": "Python 3",
   "language": "python",
   "name": "python3"
  },
  "language_info": {
   "codemirror_mode": {
    "name": "ipython",
    "version": 3
   },
   "file_extension": ".py",
   "mimetype": "text/x-python",
   "name": "python",
   "nbconvert_exporter": "python",
   "pygments_lexer": "ipython3",
   "version": "3.8.8"
  }
 },
 "nbformat": 4,
 "nbformat_minor": 5
}
